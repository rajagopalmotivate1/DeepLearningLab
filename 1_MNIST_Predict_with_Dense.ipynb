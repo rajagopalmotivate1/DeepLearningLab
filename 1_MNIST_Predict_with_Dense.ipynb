{
  "nbformat": 4,
  "nbformat_minor": 0,
  "metadata": {
    "colab": {
      "name": "1. MNIST Predict with Dense.ipynb",
      "version": "0.3.2",
      "provenance": [],
      "include_colab_link": true
    },
    "kernelspec": {
      "name": "python3",
      "display_name": "Python 3"
    }
  },
  "cells": [
    {
      "cell_type": "markdown",
      "metadata": {
        "id": "view-in-github",
        "colab_type": "text"
      },
      "source": [
        "<a href=\"https://colab.research.google.com/github/rajagopalmotivate1/DeepLearningLab/blob/master/1_MNIST_Predict_with_Dense.ipynb\" target=\"_parent\"><img src=\"https://colab.research.google.com/assets/colab-badge.svg\" alt=\"Open In Colab\"/></a>"
      ]
    },
    {
      "cell_type": "markdown",
      "metadata": {
        "id": "GcGASTOTWmux",
        "colab_type": "text"
      },
      "source": [
        "# *My Deep Learning Jump start Project No. 1*"
      ]
    },
    {
      "cell_type": "markdown",
      "metadata": {
        "id": "ih46rSIMUSxp",
        "colab_type": "text"
      },
      "source": [
        "# My 1st Deep Learning experiement. G\n",
        "##Given an image (digit), predict what class this image belongs. \n",
        "### X is 28x28 image , Y is a label (can be any digit between 0 to 9)\n",
        "\n",
        "# My name: "
      ]
    },
    {
      "cell_type": "markdown",
      "metadata": {
        "id": "513c4ViDVSZ0",
        "colab_type": "text"
      },
      "source": [
        "##Here are my steps\n",
        "###Step 1: Define the Problem and Collect data, Load the collected data, Visuvalize it\n",
        "###Step 2: Prepare the data (vectorize, reshape, normalize, OHE)\n",
        "###Step 3: Define the network architecture\n",
        "###Step 4: Define the metrics, optimizers, loss function, and Complie the model\n",
        "###Step 5: Train the network\n",
        "###Step 6: Evaluate the network, Iterate to improve the model\n",
        "###Step 7: Predict"
      ]
    },
    {
      "cell_type": "code",
      "metadata": {
        "id": "l_ptIb6CEon5",
        "colab_type": "code",
        "colab": {}
      },
      "source": [
        "from keras.datasets import mnist\n",
        "from keras import models\n",
        "from keras import layers\n",
        "from keras.utils import to_categorical\n",
        "from matplotlib import pyplot\n",
        "from keras.utils import plot_model\n",
        "from IPython.display import Image\n"
      ],
      "execution_count": 0,
      "outputs": []
    },
    {
      "cell_type": "markdown",
      "metadata": {
        "id": "xX7Iz4NDYAaV",
        "colab_type": "text"
      },
      "source": [
        "\n",
        "# 1. Download the MNIST dataset, and load it into 4 variables\n",
        "```\n",
        "(trainX, trainY), (testX, testY) = mnist.load_data()\n",
        "\n",
        "```\n",
        "##Tip 1.  aKerasDataset. load_data(): This method returns 4 variables\n",
        "\n",
        "##Tip 2.  type(myObject) : Use this to find the type of object \n",
        "          (e.g. is it a interger, array)\n",
        "\n",
        "##Tip 3.  myArrary.shape returns the size of the array. \n",
        "            1 D array of 10 elements will be (10).              \n",
        "            2 D array will be (8, 8). \n",
        "\n",
        "\n",
        "\n"
      ]
    },
    {
      "cell_type": "code",
      "metadata": {
        "id": "OhDD1Wx1EtyT",
        "colab_type": "code",
        "colab": {}
      },
      "source": [
        "#Step 1: Load the collected data, Visuvalize it\n",
        "\n",
        "(trainX, trainY), (testX, testY) = mnist.load_data()\n",
        "\n",
        "\n",
        "print('The type of object is ..')\n",
        "print(type(trainX))\n",
        "\n",
        "numberofTrainingsamples = trainX.shape[0]\n",
        "print(\"number of Training samples = \" + str(numberofTrainingsamples))\n",
        "\n",
        "print( \"Shape of trainX: \"+ str(trainX.shape) + \".   Shape of trainY\" + str( trainY.shape))\n",
        "print( \"Shape of testX: \"+ str(testX.shape) )\n",
        "\n",
        "\n",
        "print(\"number of Test samples = \" + str(testX.shape[0]))\n",
        "\n"
      ],
      "execution_count": 0,
      "outputs": []
    },
    {
      "cell_type": "markdown",
      "metadata": {
        "id": "m-4-m8pybmqi",
        "colab_type": "text"
      },
      "source": [
        "#2. Visuvalize one of the elements of the dataset"
      ]
    },
    {
      "cell_type": "code",
      "metadata": {
        "id": "tqcmxJs4E_D9",
        "colab_type": "code",
        "colab": {}
      },
      "source": [
        "print(\"TrainY [76] is labels as = \" + str(trainY[76]))\n",
        "print(\"TrainX [76] is a image and looks like this...\")\n",
        "pyplot.imshow(trainX[76])\n",
        "pyplot.show()\n",
        "print( \"Shape of this image is \"+ str(trainX[76].shape) )\n",
        "\n"
      ],
      "execution_count": 0,
      "outputs": []
    },
    {
      "cell_type": "markdown",
      "metadata": {
        "id": "ovoUonr4b2as",
        "colab_type": "text"
      },
      "source": [
        "# 2.a Normalize values by dividing by 255\n",
        "\n",
        "Check the values of the arrary before and after dividing it by 255. We divide to normalize the values between 0 and 1 \n",
        "\n",
        "## Tip 1: matplotlib.pyplot.imshow(myArray): Use this to plot an array as a image\n"
      ]
    },
    {
      "cell_type": "code",
      "metadata": {
        "id": "Elycn3tZFbs1",
        "colab_type": "code",
        "colab": {}
      },
      "source": [
        "print(\"TrainY [1000] is labels as = \" + str(trainY[1000]))\n",
        "print(\"TrainX [1000] is a image and looks like this...\")\n",
        "pyplot.imshow(trainX[1000])\n",
        "pyplot.show()\n",
        "print( \"Shape of this image is \"+ str(trainX[1000].shape) )\n",
        "print(\"This is a 2 dimensional array and its value is\") \n",
        "print(trainX[1000])\n",
        "\n"
      ],
      "execution_count": 0,
      "outputs": []
    },
    {
      "cell_type": "code",
      "metadata": {
        "id": "CpHaNznyHwYd",
        "colab_type": "code",
        "colab": {}
      },
      "source": [
        "#Step 2: Prepare the data (vectorize, reshape, normalize, OHE)\n",
        "\n",
        "print(\"trainY: \"+ str(trainY[2]))\n",
        "trainYready = to_categorical(trainY)\n",
        "print(\"trainYOHE: \"+ str(trainYready[2]))\n",
        "testYready = to_categorical(testY)\n",
        "\n"
      ],
      "execution_count": 0,
      "outputs": []
    },
    {
      "cell_type": "code",
      "metadata": {
        "id": "KKzam6YSKIb5",
        "colab_type": "code",
        "colab": {}
      },
      "source": [
        "\n",
        "trainXnormalized =  trainX.astype('float32') / 255\n",
        "\n",
        "testXnormalized = testX.astype('float32')/ 255"
      ],
      "execution_count": 0,
      "outputs": []
    },
    {
      "cell_type": "code",
      "metadata": {
        "id": "pcaALZqmICjB",
        "colab_type": "code",
        "colab": {}
      },
      "source": [
        "print(\"trainXready [1000] is a image and looks like this...\")\n",
        "pyplot.imshow(trainXnormalized[1000])\n",
        "pyplot.show()\n",
        "print( \"Shape of this image is \"+ str(trainXnormalized[1000].shape) )\n",
        "print(\"This is a 2 dimensional array and its value is\") \n",
        "print(trainXnormalized[1000])\n",
        "\n"
      ],
      "execution_count": 0,
      "outputs": []
    },
    {
      "cell_type": "code",
      "metadata": {
        "id": "YHtEsnhlIwfk",
        "colab_type": "code",
        "colab": {}
      },
      "source": [
        "print(\"Shape of trainXnormalized[0] is \"+ str(trainXnormalized.shape[0]))\n",
        "\n",
        "\n",
        "print( \"\\n Shape of trainXnormalized is \"+ str(trainXnormalized.shape) )\n",
        "\n",
        "trainXready = trainXnormalized.reshape( trainXnormalized.shape[0], 28*28 )\n",
        "\n",
        "testXready = testXnormalized.reshape( testXnormalized.shape[0], 28*28 )\n",
        "\n",
        "print( \" Shape of trainXready is      \"+ str(trainXready.shape) )\n",
        "\n",
        "\n",
        "\n"
      ],
      "execution_count": 0,
      "outputs": []
    },
    {
      "cell_type": "markdown",
      "metadata": {
        "id": "5f5enbzldCZi",
        "colab_type": "text"
      },
      "source": [
        "#3. Define the network architecture\n",
        "\n"
      ]
    },
    {
      "cell_type": "code",
      "metadata": {
        "id": "4y-n-9slLLJg",
        "colab_type": "code",
        "colab": {}
      },
      "source": [
        "#Step 3: Define the network architecture\n",
        "network = models.Sequential(name='My first Neural network , thanks Karunya')\n",
        "layer1 = layers.Dense(512, input_shape=(28*28,), activation='relu')\n",
        "network.add(layer1)\n",
        "layer2 = layers.Dense(128, activation='relu')\n",
        "network.add(layer2)\n",
        "layer3 = layers.Dense(10, activation='softmax')\n",
        "network.add(layer3)\n"
      ],
      "execution_count": 0,
      "outputs": []
    },
    {
      "cell_type": "code",
      "metadata": {
        "id": "BW4OW6RHLQhv",
        "colab_type": "code",
        "colab": {}
      },
      "source": [
        "print(network.name)\n",
        "\n",
        "print(\"Here is architecture of my neural network..  \")\n",
        "\n",
        "print(network.summary())"
      ],
      "execution_count": 0,
      "outputs": []
    },
    {
      "cell_type": "code",
      "metadata": {
        "id": "HNepGJblLo8c",
        "colab_type": "code",
        "colab": {}
      },
      "source": [
        "# Plot model graph\n",
        "\n",
        "print('This is neural network model is a Fully Connected Neural network consisting of 3 Dense layers')\n",
        "print('Input is a array of 784 elements ')\n",
        "print('Output is one of 10 classes ')\n",
        "\n",
        "print(network.name)\n",
        "\n",
        "print(network)\n",
        "\n",
        "plot_model(network, show_shapes=True, show_layer_names=True, to_file='my1stmodel.png')\n",
        "Image(retina=True, filename='my1stmodel.png')\n",
        "\n",
        "\n",
        "\n"
      ],
      "execution_count": 0,
      "outputs": []
    },
    {
      "cell_type": "code",
      "metadata": {
        "id": "lEkaktnRPVrJ",
        "colab_type": "code",
        "colab": {}
      },
      "source": [
        "from google.colab import files\n",
        "files.download('my1stmodel.png')"
      ],
      "execution_count": 0,
      "outputs": []
    },
    {
      "cell_type": "markdown",
      "metadata": {
        "id": "cKWqPm6ldVTe",
        "colab_type": "text"
      },
      "source": [
        "#4. Choose the loss funtion"
      ]
    },
    {
      "cell_type": "code",
      "metadata": {
        "id": "fsrdAyo5QoGY",
        "colab_type": "code",
        "colab": {}
      },
      "source": [
        "#Step 4: Define the metrics, optimizers, loss function, and Complie the model\n",
        "network.compile(optimizer='rmsprop', loss='categorical_crossentropy', metrics=['accuracy'])\n"
      ],
      "execution_count": 0,
      "outputs": []
    },
    {
      "cell_type": "code",
      "metadata": {
        "id": "xPE41erDdeyF",
        "colab_type": "code",
        "colab": {}
      },
      "source": [
        "#5. Train the network "
      ],
      "execution_count": 0,
      "outputs": []
    },
    {
      "cell_type": "markdown",
      "metadata": {
        "id": "gHHI14JJdmVx",
        "colab_type": "text"
      },
      "source": [
        "# 5. Train the network\n",
        "\n",
        "##Tip 1 : myModel.fit( X, Y ) trains the neural network with dataset (X, Y ). \n",
        "It returns a log history, which is a log of values in each iteration "
      ]
    },
    {
      "cell_type": "code",
      "metadata": {
        "id": "Jd21BCvUQrrr",
        "colab_type": "code",
        "colab": {}
      },
      "source": [
        "#Step 5: Train the network\n",
        "history = network.fit( trainXready, trainYready, batch_size=32, epochs=10)\n"
      ],
      "execution_count": 0,
      "outputs": []
    },
    {
      "cell_type": "code",
      "metadata": {
        "id": "JgbZ34bwQwDw",
        "colab_type": "code",
        "colab": {}
      },
      "source": [
        "#Step 6: Evaluate the network\n",
        "metrics_test_loss, metrics_test_accuracy = network.evaluate(testXready, testYready)\n",
        "\n",
        "print(\" Loss on test data is: \" + str(metrics_test_loss))\n",
        "print(\" Accuracy of my nerual network on test data in percentage is : \" + str(metrics_test_accuracy* 100))\n",
        "\n"
      ],
      "execution_count": 0,
      "outputs": []
    },
    {
      "cell_type": "markdown",
      "metadata": {
        "id": "tBuUVJrUeJFu",
        "colab_type": "text"
      },
      "source": [
        "# 6. Predict what class a image belongs to\n",
        "\n",
        "### Tip 1. myModel.predict() accepts a array "
      ]
    },
    {
      "cell_type": "code",
      "metadata": {
        "id": "AfHQG05NRc0J",
        "colab_type": "code",
        "colab": {}
      },
      "source": [
        "import numpy as np\n",
        "\n",
        "#Step 7: Predict\n",
        "\n",
        "\n",
        "predictedResults = network.predict(testXready[1:2])\n",
        "print(\"Predicted Results: \" + str(predictedResults))\n",
        "predictedclass = predictedResults.argmax()\n",
        "\n",
        "\n",
        "predictedResults = np.around(predictedResults)\n",
        "print(\"Predicted Results: \" + str(predictedResults))\n",
        "\n",
        "\n",
        "print(\"Ground Truth OHE : \" + str(testYready[1:2]))\n",
        "\n",
        "print(\"Ground Truth :      \" + str(testY[1:2]))\n",
        "\n",
        "print(\"Predicited class is : \" + str(predictedclass))\n",
        "\n",
        "print(\"My nerual network predicts the below image as : \" + str(predictedclass))\n",
        "\n",
        "\n",
        "pyplot.imshow(testX[1])\n",
        "pyplot.show()\n"
      ],
      "execution_count": 0,
      "outputs": []
    },
    {
      "cell_type": "code",
      "metadata": {
        "id": "NN6BcMUGSyZe",
        "colab_type": "code",
        "colab": {}
      },
      "source": [
        "\n",
        "#Step 7: Predict\n",
        "\n",
        "hereismyimageindextopredict = 100\n",
        "\n",
        "\n",
        "predictedResults = network.predict(testXready[hereismyimageindextopredict:hereismyimageindextopredict+1])\n",
        "print(\"Predicted Results: \" + str(predictedResults))\n",
        "predictedclass = predictedResults.argmax()\n",
        "\n",
        "\n",
        "predictedResults = np.around(predictedResults)\n",
        "print(\"Predicted Results: \" + str(predictedResults))\n",
        "\n",
        "\n",
        "print(\"Ground Truth OHE : \" + str(testYready[hereismyimageindextopredict:hereismyimageindextopredict+1]))\n",
        "\n",
        "print(\"Ground Truth :      \" + str(testY[hereismyimageindextopredict:hereismyimageindextopredict+1]))\n",
        "\n",
        "print(\"Predicited class is : \" + str(predictedclass))\n",
        "\n",
        "print(\"My nerual network predicts the below image as : \" + str(predictedclass))\n",
        "\n",
        "\n",
        "pyplot.imshow(testX[hereismyimageindextopredict])\n",
        "pyplot.show()\n"
      ],
      "execution_count": 0,
      "outputs": []
    },
    {
      "cell_type": "code",
      "metadata": {
        "id": "MYNZN55BTgD6",
        "colab_type": "code",
        "colab": {}
      },
      "source": [
        "import matplotlib.pyplot as plt\n",
        "\n",
        "plt.plot(history.history['acc'])\n",
        "plt.title('Model accuracy')\n",
        "plt.ylabel('Accuracy')\n",
        "plt.xlabel('Epoch')\n",
        "plt.legend(['Train'], loc='upper left')\n",
        "plt.show()"
      ],
      "execution_count": 0,
      "outputs": []
    },
    {
      "cell_type": "code",
      "metadata": {
        "id": "iquI2z5JT_as",
        "colab_type": "code",
        "colab": {}
      },
      "source": [
        "# Plot training & validation loss values\n",
        "plt.plot(history.history['loss'])\n",
        "plt.title('Model loss')\n",
        "plt.ylabel('Loss')\n",
        "plt.xlabel('Epoch')\n",
        "plt.legend(['Train'], loc='upper left')\n",
        "plt.show()"
      ],
      "execution_count": 0,
      "outputs": []
    }
  ]
}