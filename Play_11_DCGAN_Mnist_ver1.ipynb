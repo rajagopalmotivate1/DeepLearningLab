{
  "nbformat": 4,
  "nbformat_minor": 0,
  "metadata": {
    "colab": {
      "name": "DCGAN Mnist ver1.ipynb",
      "version": "0.3.2",
      "provenance": [],
      "collapsed_sections": [],
      "include_colab_link": true
    },
    "kernelspec": {
      "name": "python3",
      "display_name": "Python 3"
    },
    "accelerator": "GPU"
  },
  "cells": [
    {
      "cell_type": "markdown",
      "metadata": {
        "id": "view-in-github",
        "colab_type": "text"
      },
      "source": [
        "<a href=\"https://colab.research.google.com/github/rajagopalmotivate1/DeepLearningLab/blob/master/Play_11_DCGAN_Mnist_ver1.ipynb\" target=\"_parent\"><img src=\"https://colab.research.google.com/assets/colab-badge.svg\" alt=\"Open In Colab\"/></a>"
      ]
    },
    {
      "cell_type": "code",
      "metadata": {
        "id": "rAnqTx79-fqy",
        "colab_type": "code",
        "colab": {}
      },
      "source": [
        "from keras.datasets import mnist\n",
        "from keras.layers import Input, Dense, Reshape, Flatten, Dropout\n",
        "from keras.layers import BatchNormalization, Activation, ZeroPadding2D\n",
        "from keras.layers.advanced_activations import LeakyReLU\n",
        "from keras.layers.convolutional import UpSampling2D, Conv2D\n",
        "from keras.models import Model\n",
        "from keras.optimizers import Adam\n",
        "import matplotlib\n",
        "matplotlib.use('Agg')\n",
        "import matplotlib.pyplot as plt\n",
        "import numpy as np\n",
        "from keras.utils import plot_model\n",
        "from google.colab import files\n",
        "\n"
      ],
      "execution_count": 0,
      "outputs": []
    },
    {
      "cell_type": "code",
      "metadata": {
        "id": "RrUhSz3A-kxl",
        "colab_type": "code",
        "colab": {}
      },
      "source": [
        "def load_data():\n",
        "    (X_train, _), (_, _) = mnist.load_data()\n",
        "    X_train = (X_train.astype(np.float32) - 127.5) / 127.5\n",
        "    X_train = np.expand_dims(X_train, axis=3)\n",
        "    return X_train"
      ],
      "execution_count": 0,
      "outputs": []
    },
    {
      "cell_type": "code",
      "metadata": {
        "id": "rAvcp76J-pFy",
        "colab_type": "code",
        "colab": {}
      },
      "source": [
        ""
      ],
      "execution_count": 0,
      "outputs": []
    },
    {
      "cell_type": "code",
      "metadata": {
        "id": "v5Gt1N1m_qkt",
        "colab_type": "code",
        "colab": {}
      },
      "source": [
        "def build_generator(noise_shape=(100,)):\n",
        "    input = Input(noise_shape)\n",
        "    x = Dense(128 * 7 * 7, activation=\"relu\")(input)\n",
        "    x = Reshape((7, 7, 128))(x)\n",
        "    x = BatchNormalization(momentum=0.8)(x)\n",
        "    x = UpSampling2D()(x)\n",
        "    x = Conv2D(128, kernel_size=3, padding=\"same\")(x)\n",
        "    x = Activation(\"relu\")(x)\n",
        "    x = BatchNormalization(momentum=0.8)(x)\n",
        "    x = UpSampling2D()(x)\n",
        "    x = Conv2D(64, kernel_size=3, padding=\"same\")(x)\n",
        "    x = Activation(\"relu\")(x)\n",
        "    x = BatchNormalization(momentum=0.8)(x)\n",
        "    x = Conv2D(1, kernel_size=3, padding=\"same\")(x)\n",
        "    out = Activation(\"tanh\")(x)\n",
        "    model = Model(input, out)\n",
        "    print(\"-- Generator -- \")\n",
        "    model.summary()\n",
        "    return model"
      ],
      "execution_count": 0,
      "outputs": []
    },
    {
      "cell_type": "code",
      "metadata": {
        "id": "z_1oltuAI8_x",
        "colab_type": "code",
        "colab": {}
      },
      "source": [
        "def build_discriminator(img_shape):\n",
        "    input = Input(img_shape)\n",
        "    x =Conv2D(32, kernel_size=3, strides=2, padding=\"same\")(input)\n",
        "    x = LeakyReLU(alpha=0.2)(x)\n",
        "    x = Dropout(0.25)(x)\n",
        "    x = Conv2D(64, kernel_size=3, strides=2, padding=\"same\")(x)\n",
        "    x = ZeroPadding2D(padding=((0, 1), (0, 1)))(x)\n",
        "    x = (LeakyReLU(alpha=0.2))(x)\n",
        "    x = Dropout(0.25)(x)\n",
        "    x = BatchNormalization(momentum=0.8)(x)\n",
        "    x = Conv2D(128, kernel_size=3, strides=2, padding=\"same\")(x)\n",
        "    x = LeakyReLU(alpha=0.2)(x)\n",
        "    x = Dropout(0.25)(x)\n",
        "    x = BatchNormalization(momentum=0.8)(x)\n",
        "    x = Conv2D(256, kernel_size=3, strides=1, padding=\"same\")(x)\n",
        "    x = LeakyReLU(alpha=0.2)(x)\n",
        "    x = Dropout(0.25)(x)\n",
        "    x = Flatten()(x)\n",
        "    out = Dense(1, activation='sigmoid')(x)\n",
        "\n",
        "    model = Model(input, out)\n",
        "    print(\"-- Discriminator -- \")\n",
        "    model.summary()\n",
        "    return model"
      ],
      "execution_count": 0,
      "outputs": []
    },
    {
      "cell_type": "code",
      "metadata": {
        "id": "GKL8BKzNJDaG",
        "colab_type": "code",
        "colab": {}
      },
      "source": [
        "def train(generator, discriminator, combined, epochs=2000, batch_size=128, save_interval=50):\n",
        "\n",
        "    X_train = load_data()\n",
        "\n",
        "    num_examples = X_train.shape[0]\n",
        "    num_batches = int(num_examples / float(batch_size))\n",
        "    print('Number of examples: ', num_examples)\n",
        "    print('Number of Batches: ', num_batches)\n",
        "    print('Number of epochs: ', epochs)\n",
        "\n",
        "    half_batch = int(batch_size / 2)\n",
        "\n",
        "    for epoch in range(epochs + 1):\n",
        "        for batch in range(num_batches):\n",
        "\n",
        "            # noise images for the batch\n",
        "            noise = np.random.normal(0, 1, (half_batch, 100))\n",
        "            fake_images = generator.predict(noise)\n",
        "            fake_labels = np.zeros((half_batch, 1))\n",
        "\n",
        "            # real images for batch\n",
        "            idx = np.random.randint(0, X_train.shape[0], half_batch)\n",
        "            real_images = X_train[idx]\n",
        "            real_labels = np.ones((half_batch, 1))\n",
        "\n",
        "            # Train the discriminator (real classified as ones and generated as zeros)\n",
        "            d_loss_real = discriminator.train_on_batch(real_images, real_labels)\n",
        "            d_loss_fake = discriminator.train_on_batch(fake_images, fake_labels)\n",
        "            d_loss = 0.5 * np.add(d_loss_real, d_loss_fake)\n",
        "\n",
        "            noise = np.random.normal(0, 1, (batch_size, 100))\n",
        "            # Train the generator\n",
        "            g_loss = combined.train_on_batch(noise, np.ones((batch_size, 1)))\n",
        "\n",
        "            # Plot the progress\n",
        "            print(\"Epoch %d Batch %d/%d [D loss: %f, acc.: %.2f%%] [G loss: %f]\" %\n",
        "                  (epoch,batch, num_batches, d_loss[0], 100 * d_loss[1], g_loss))\n",
        "\n",
        "            if batch % 50 == 0:\n",
        "                save_imgs(generator, epoch, batch)\n",
        "\n",
        "\n",
        "\n"
      ],
      "execution_count": 0,
      "outputs": []
    },
    {
      "cell_type": "code",
      "metadata": {
        "id": "YJM5g5gmJV3U",
        "colab_type": "code",
        "colab": {}
      },
      "source": [
        "def save_imgs(generator, epoch, batch):\n",
        "    r, c = 5, 5\n",
        "    noise = np.random.normal(0, 1, (r * c, 100))\n",
        "    gen_imgs = generator.predict(noise)\n",
        "\n",
        "    # Rescale images 0 - 1\n",
        "    gen_imgs = 0.5 * gen_imgs + 0.5\n",
        "\n",
        "    fig, axs = plt.subplots(r, c)\n",
        "    cnt = 0\n",
        "    for i in range(r):\n",
        "        for j in range(c):\n",
        "            axs[i, j].imshow(gen_imgs[cnt, :, :, 0], cmap='gray')\n",
        "            axs[i, j].axis('off')\n",
        "            cnt += 1\n",
        "    fig.savefig(\"mnist_%d_%d.png\" % (epoch, batch))\n",
        "    files.download(\"mnist_%d_%d.png\" % (epoch, batch))\n",
        "    plt.show()\n",
        "    plt.close()\n",
        "    "
      ],
      "execution_count": 0,
      "outputs": []
    },
    {
      "cell_type": "code",
      "metadata": {
        "id": "CtDdi8MOJbMw",
        "colab_type": "code",
        "colab": {}
      },
      "source": [
        "def build_models():\n",
        "\n",
        "    gen_optimizer = Adam(lr=0.0002, beta_1=0.5)\n",
        "    disc_optimizer = Adam(lr=0.0002, beta_1=0.5)\n",
        "\n",
        "\n",
        "    discriminator = build_discriminator(img_shape=(28, 28, 1))\n",
        "    discriminator.compile(loss='binary_crossentropy',\n",
        "                               optimizer=disc_optimizer,\n",
        "                               metrics=['accuracy'])\n",
        "\n",
        "    generator = build_generator()\n",
        "    generator.compile(loss='binary_crossentropy', optimizer=gen_optimizer)\n",
        "\n",
        "    z = Input(shape=(100,))\n",
        "    img = generator(z)\n",
        "    discriminator.trainable = False\n",
        "    real = discriminator(img)\n",
        "    combined = Model(z, real)\n",
        "    combined.compile(loss='binary_crossentropy', optimizer=gen_optimizer)\n",
        "    return generator, discriminator, combined"
      ],
      "execution_count": 0,
      "outputs": []
    },
    {
      "cell_type": "code",
      "metadata": {
        "id": "2BlA_p27D71r",
        "colab_type": "code",
        "colab": {}
      },
      "source": [
        "generator, discriminator, combined = build_models()\n"
      ],
      "execution_count": 0,
      "outputs": []
    },
    {
      "cell_type": "code",
      "metadata": {
        "id": "Caw47tnGH7vV",
        "colab_type": "code",
        "colab": {}
      },
      "source": [
        "plot_model(combined, show_shapes=False, show_layer_names=True, to_file='gen.png')\n",
        "files.download('gen.png')\n"
      ],
      "execution_count": 0,
      "outputs": []
    },
    {
      "cell_type": "code",
      "metadata": {
        "id": "0dy1Eq46D9k3",
        "colab_type": "code",
        "colab": {}
      },
      "source": [
        "train(generator, discriminator, combined,\n",
        "          epochs=1, batch_size=32, save_interval=1)"
      ],
      "execution_count": 0,
      "outputs": []
    },
    {
      "cell_type": "code",
      "metadata": {
        "id": "N8StwuEGEONz",
        "colab_type": "code",
        "colab": {}
      },
      "source": [
        "train(generator, discriminator, combined,\n",
        "          epochs=4, batch_size=32, save_interval=1)"
      ],
      "execution_count": 0,
      "outputs": []
    },
    {
      "cell_type": "code",
      "metadata": {
        "id": "-vj36sFwJk59",
        "colab_type": "code",
        "colab": {}
      },
      "source": [
        "#endhere"
      ],
      "execution_count": 0,
      "outputs": []
    },
    {
      "cell_type": "code",
      "metadata": {
        "id": "dpOWpMc2JhEp",
        "colab_type": "code",
        "colab": {}
      },
      "source": [
        "#def main():\n",
        "  #  generator, discriminator, combined = build_models()\n",
        "\n",
        "   # train(generator, discriminator, combined,\n",
        "      #    epochs=100, batch_size=32, save_interval=1)"
      ],
      "execution_count": 0,
      "outputs": []
    },
    {
      "cell_type": "code",
      "metadata": {
        "id": "bXkjAXYBJicH",
        "colab_type": "code",
        "colab": {}
      },
      "source": [
        "#if __name__ == '__main__':\n",
        " #   main()"
      ],
      "execution_count": 0,
      "outputs": []
    },
    {
      "cell_type": "code",
      "metadata": {
        "id": "ns5gJ1w9_wj7",
        "colab_type": "code",
        "colab": {}
      },
      "source": [
        "\n",
        "##encodermodel = build_generator()\n",
        "##encodermodel.summary()\n",
        "\n",
        "##noise = np.random.normal(0, 1, (50, 100))\n",
        "##fake_images = encodermodel.predict(noise)\n"
      ],
      "execution_count": 0,
      "outputs": []
    },
    {
      "cell_type": "code",
      "metadata": {
        "id": "iOtS2UU7AFhK",
        "colab_type": "code",
        "colab": {}
      },
      "source": [
        "##encodermodel.predict(inputnoise)"
      ],
      "execution_count": 0,
      "outputs": []
    }
  ]
}